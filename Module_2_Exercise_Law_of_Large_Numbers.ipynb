{
  "nbformat": 4,
  "nbformat_minor": 0,
  "metadata": {
    "colab": {
      "name": "Module 2 Exercise Law of Large Numbers.ipynb",
      "provenance": [],
      "include_colab_link": true
    },
    "kernelspec": {
      "name": "python3",
      "display_name": "Python 3"
    }
  },
  "cells": [
    {
      "cell_type": "markdown",
      "metadata": {
        "id": "view-in-github",
        "colab_type": "text"
      },
      "source": [
        "<a href=\"https://colab.research.google.com/github/Zurezh/Python_LearnByDoing/blob/master/Module_2_Exercise_Law_of_Large_Numbers.ipynb\" target=\"_parent\"><img src=\"https://colab.research.google.com/assets/colab-badge.svg\" alt=\"Open In Colab\"/></a>"
      ]
    },
    {
      "cell_type": "markdown",
      "metadata": {
        "id": "Dl5n1jCvkUz1",
        "colab_type": "text"
      },
      "source": [
        "## Module 2 - Homework and Solution"
      ]
    },
    {
      "cell_type": "markdown",
      "metadata": {
        "id": "YA_P4R1Qka3F",
        "colab_type": "text"
      },
      "source": [
        "## Exercise Question\n",
        "\n",
        "Test the Law of Large Numbers for N random normally distributed numbers with mean = 0, stdev = 1:\n",
        "\n",
        "Create a Python script that will count how many of these numbers fall between -1 and 1 and dividde by the total quantity of N\n",
        "\n",
        "You know the E(X) = 68.2%\n",
        "\n",
        "Check the Mean (Xn) -> E(X) as you rerun your script while increasing N"
      ]
    },
    {
      "cell_type": "markdown",
      "metadata": {
        "id": "BDgkfSCyk2UI",
        "colab_type": "text"
      },
      "source": [
        "---"
      ]
    },
    {
      "cell_type": "markdown",
      "metadata": {
        "id": "DJFvaB1Zk5Hw",
        "colab_type": "text"
      },
      "source": [
        "## Exercise Solution"
      ]
    },
    {
      "cell_type": "code",
      "metadata": {
        "id": "By8MbcA0k7Kg",
        "colab_type": "code",
        "colab": {
          "base_uri": "https://localhost:8080/",
          "height": 34
        },
        "outputId": "9059a968-a2c4-4ca1-99a1-7c8d8a739f09"
      },
      "source": [
        "import numpy as np\n",
        "from numpy.random import randn\n",
        "\n",
        "N = 100000 # Try to values: 100, 1000, 10000, 100000, 1000000\n",
        "counter = 0\n",
        "for i in randn(N):\n",
        "  if i>-1 and i<1:\n",
        "    counter = counter + 1\n",
        "counter/N"
      ],
      "execution_count": 5,
      "outputs": [
        {
          "output_type": "execute_result",
          "data": {
            "text/plain": [
              "0.68399"
            ]
          },
          "metadata": {
            "tags": []
          },
          "execution_count": 5
        }
      ]
    },
    {
      "cell_type": "code",
      "metadata": {
        "id": "Km3DqxVBkZJe",
        "colab_type": "code",
        "colab": {}
      },
      "source": [
        ""
      ],
      "execution_count": 0,
      "outputs": []
    }
  ]
}