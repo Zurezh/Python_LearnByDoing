{
  "nbformat": 4,
  "nbformat_minor": 0,
  "metadata": {
    "colab": {
      "name": "Module 2 Core Programming  Principles.ipynb",
      "provenance": [],
      "include_colab_link": true
    },
    "kernelspec": {
      "name": "python3",
      "display_name": "Python 3"
    }
  },
  "cells": [
    {
      "cell_type": "markdown",
      "metadata": {
        "id": "view-in-github",
        "colab_type": "text"
      },
      "source": [
        "<a href=\"https://colab.research.google.com/github/Zurezh/Python_LearnByDoing/blob/master/Module_2_Core_Programming_Principles.ipynb\" target=\"_parent\"><img src=\"https://colab.research.google.com/assets/colab-badge.svg\" alt=\"Open In Colab\"/></a>"
      ]
    },
    {
      "cell_type": "markdown",
      "metadata": {
        "id": "8-54BoH10Hc5",
        "colab_type": "text"
      },
      "source": [
        "# Module 2 - Core Programming Principles\n",
        "\n",
        "1. Types of Variables\n",
        "2. Using Variables\n",
        "3. Boolean Variables and Operators\n",
        "4. The While Loop\n",
        "5. The For Loop\n",
        "6. The IF Statement\n",
        "7. Exercise"
      ]
    },
    {
      "cell_type": "markdown",
      "metadata": {
        "id": "JSnui02hcXa-",
        "colab_type": "text"
      },
      "source": [
        "### Types of Variables"
      ]
    },
    {
      "cell_type": "code",
      "metadata": {
        "id": "hefT_fbDcZTX",
        "colab_type": "code",
        "colab": {}
      },
      "source": [
        "# Integer\n",
        "x = 2"
      ],
      "execution_count": 0,
      "outputs": []
    },
    {
      "cell_type": "code",
      "metadata": {
        "id": "-LMyY-AYcdIs",
        "colab_type": "code",
        "outputId": "cd1c6f8f-60cc-4810-8ebe-ef8c4d95c9c1",
        "colab": {
          "base_uri": "https://localhost:8080/",
          "height": 34
        }
      },
      "source": [
        "x"
      ],
      "execution_count": 0,
      "outputs": [
        {
          "output_type": "execute_result",
          "data": {
            "text/plain": [
              "2"
            ]
          },
          "metadata": {
            "tags": []
          },
          "execution_count": 4
        }
      ]
    },
    {
      "cell_type": "code",
      "metadata": {
        "id": "K9hmkFITciuE",
        "colab_type": "code",
        "outputId": "cd560ea8-8600-4ad6-fbeb-843a26bef361",
        "colab": {
          "base_uri": "https://localhost:8080/",
          "height": 34
        }
      },
      "source": [
        "type(x)"
      ],
      "execution_count": 0,
      "outputs": [
        {
          "output_type": "execute_result",
          "data": {
            "text/plain": [
              "int"
            ]
          },
          "metadata": {
            "tags": []
          },
          "execution_count": 5
        }
      ]
    },
    {
      "cell_type": "markdown",
      "metadata": {
        "id": "ckVDafH0cs29",
        "colab_type": "text"
      },
      "source": [
        "---"
      ]
    },
    {
      "cell_type": "code",
      "metadata": {
        "id": "b_1UXO2ecoQp",
        "colab_type": "code",
        "colab": {}
      },
      "source": [
        "#float / double\n",
        "y = 2.5"
      ],
      "execution_count": 0,
      "outputs": []
    },
    {
      "cell_type": "code",
      "metadata": {
        "id": "ffl1T8vRcwsh",
        "colab_type": "code",
        "outputId": "008339f3-a2ab-47b7-9dab-3e509011c5a5",
        "colab": {
          "base_uri": "https://localhost:8080/",
          "height": 34
        }
      },
      "source": [
        "y"
      ],
      "execution_count": 0,
      "outputs": [
        {
          "output_type": "execute_result",
          "data": {
            "text/plain": [
              "2.5"
            ]
          },
          "metadata": {
            "tags": []
          },
          "execution_count": 7
        }
      ]
    },
    {
      "cell_type": "code",
      "metadata": {
        "id": "Ja_bkQqCcxN1",
        "colab_type": "code",
        "outputId": "11ea18ba-3faa-464e-9b65-6d7d55b7a81f",
        "colab": {
          "base_uri": "https://localhost:8080/",
          "height": 34
        }
      },
      "source": [
        "type(y)"
      ],
      "execution_count": 0,
      "outputs": [
        {
          "output_type": "execute_result",
          "data": {
            "text/plain": [
              "float"
            ]
          },
          "metadata": {
            "tags": []
          },
          "execution_count": 8
        }
      ]
    },
    {
      "cell_type": "markdown",
      "metadata": {
        "id": "NUlLIC0GczNA",
        "colab_type": "text"
      },
      "source": [
        "---"
      ]
    },
    {
      "cell_type": "code",
      "metadata": {
        "id": "vZggPbEwc1SW",
        "colab_type": "code",
        "colab": {}
      },
      "source": [
        "#string\n",
        "a = 'Hello'"
      ],
      "execution_count": 0,
      "outputs": []
    },
    {
      "cell_type": "code",
      "metadata": {
        "id": "TNtG2qvsdB9t",
        "colab_type": "code",
        "outputId": "c38719f2-f6e4-480d-e422-a3d12bf55477",
        "colab": {
          "base_uri": "https://localhost:8080/",
          "height": 34
        }
      },
      "source": [
        "a"
      ],
      "execution_count": 0,
      "outputs": [
        {
          "output_type": "execute_result",
          "data": {
            "text/plain": [
              "'Hello'"
            ]
          },
          "metadata": {
            "tags": []
          },
          "execution_count": 10
        }
      ]
    },
    {
      "cell_type": "code",
      "metadata": {
        "id": "AazzDeG6dCT2",
        "colab_type": "code",
        "outputId": "cf33dcda-114c-4859-a914-87af61485eeb",
        "colab": {
          "base_uri": "https://localhost:8080/",
          "height": 34
        }
      },
      "source": [
        "type(a)"
      ],
      "execution_count": 0,
      "outputs": [
        {
          "output_type": "execute_result",
          "data": {
            "text/plain": [
              "str"
            ]
          },
          "metadata": {
            "tags": []
          },
          "execution_count": 11
        }
      ]
    },
    {
      "cell_type": "markdown",
      "metadata": {
        "id": "w0rm4TCvdGWR",
        "colab_type": "text"
      },
      "source": [
        "---"
      ]
    },
    {
      "cell_type": "code",
      "metadata": {
        "id": "V9LzN0JBdHVT",
        "colab_type": "code",
        "colab": {}
      },
      "source": [
        "#logical\n",
        "q1 = True"
      ],
      "execution_count": 0,
      "outputs": []
    },
    {
      "cell_type": "code",
      "metadata": {
        "id": "BOjZ_EZ8dSXc",
        "colab_type": "code",
        "outputId": "ef61ea19-2509-46a2-8567-d8700ffb29ae",
        "colab": {
          "base_uri": "https://localhost:8080/",
          "height": 34
        }
      },
      "source": [
        "q1"
      ],
      "execution_count": 0,
      "outputs": [
        {
          "output_type": "execute_result",
          "data": {
            "text/plain": [
              "True"
            ]
          },
          "metadata": {
            "tags": []
          },
          "execution_count": 14
        }
      ]
    },
    {
      "cell_type": "code",
      "metadata": {
        "id": "M3jceIxrdTGn",
        "colab_type": "code",
        "outputId": "57a36ec3-197d-4c37-b790-ee71d73cb728",
        "colab": {
          "base_uri": "https://localhost:8080/",
          "height": 34
        }
      },
      "source": [
        "type(q1)"
      ],
      "execution_count": 0,
      "outputs": [
        {
          "output_type": "execute_result",
          "data": {
            "text/plain": [
              "bool"
            ]
          },
          "metadata": {
            "tags": []
          },
          "execution_count": 15
        }
      ]
    },
    {
      "cell_type": "markdown",
      "metadata": {
        "id": "kEzmhP8mdWzd",
        "colab_type": "text"
      },
      "source": [
        "---"
      ]
    },
    {
      "cell_type": "code",
      "metadata": {
        "id": "ywzm4jxldT78",
        "colab_type": "code",
        "colab": {}
      },
      "source": [
        ""
      ],
      "execution_count": 0,
      "outputs": []
    },
    {
      "cell_type": "markdown",
      "metadata": {
        "id": "Bykzz0MCeOJP",
        "colab_type": "text"
      },
      "source": [
        "### Using Variables"
      ]
    },
    {
      "cell_type": "code",
      "metadata": {
        "id": "oP4Wp2D1eP5_",
        "colab_type": "code",
        "colab": {}
      },
      "source": [
        "A = 10"
      ],
      "execution_count": 0,
      "outputs": []
    },
    {
      "cell_type": "code",
      "metadata": {
        "id": "luAcImJFeWXc",
        "colab_type": "code",
        "colab": {}
      },
      "source": [
        "B = 5"
      ],
      "execution_count": 0,
      "outputs": []
    },
    {
      "cell_type": "code",
      "metadata": {
        "id": "lT2okT0heXZB",
        "colab_type": "code",
        "colab": {}
      },
      "source": [
        "# Arithmetics"
      ],
      "execution_count": 0,
      "outputs": []
    },
    {
      "cell_type": "code",
      "metadata": {
        "id": "a1n5ORxDeZwN",
        "colab_type": "code",
        "colab": {}
      },
      "source": [
        "C = A + B"
      ],
      "execution_count": 0,
      "outputs": []
    },
    {
      "cell_type": "code",
      "metadata": {
        "id": "YwTF509Qeaqv",
        "colab_type": "code",
        "colab": {}
      },
      "source": [
        "D = B / A"
      ],
      "execution_count": 0,
      "outputs": []
    },
    {
      "cell_type": "markdown",
      "metadata": {
        "id": "I8Ri0Zajefxs",
        "colab_type": "text"
      },
      "source": [
        "---"
      ]
    },
    {
      "cell_type": "code",
      "metadata": {
        "id": "SOj-eup_ew29",
        "colab_type": "code",
        "outputId": "dc8e44e6-29d5-46f6-ef6f-fe39023d45c6",
        "colab": {
          "base_uri": "https://localhost:8080/",
          "height": 34
        }
      },
      "source": [
        "# Printing\n",
        "C \n",
        "D # This line overrides the above line C"
      ],
      "execution_count": 0,
      "outputs": [
        {
          "output_type": "execute_result",
          "data": {
            "text/plain": [
              "0.5"
            ]
          },
          "metadata": {
            "tags": []
          },
          "execution_count": 23
        }
      ]
    },
    {
      "cell_type": "code",
      "metadata": {
        "id": "I5BayTNPebg7",
        "colab_type": "code",
        "outputId": "7e8621be-febd-4027-8209-8678c1127a0d",
        "colab": {
          "base_uri": "https://localhost:8080/",
          "height": 51
        }
      },
      "source": [
        "# Printing\n",
        "print(C)\n",
        "print(D)"
      ],
      "execution_count": 0,
      "outputs": [
        {
          "output_type": "stream",
          "text": [
            "15\n",
            "0.5\n"
          ],
          "name": "stdout"
        }
      ]
    },
    {
      "cell_type": "markdown",
      "metadata": {
        "id": "4BTZwhXbe7Lj",
        "colab_type": "text"
      },
      "source": [
        "---"
      ]
    },
    {
      "cell_type": "code",
      "metadata": {
        "id": "vrLZqGfve6Gd",
        "colab_type": "code",
        "outputId": "f411adff-72b7-45a7-8461-b67d38aaaa35",
        "colab": {
          "base_uri": "https://localhost:8080/",
          "height": 34
        }
      },
      "source": [
        "import math\n",
        "math.sqrt(A)"
      ],
      "execution_count": 0,
      "outputs": [
        {
          "output_type": "execute_result",
          "data": {
            "text/plain": [
              "3.1622776601683795"
            ]
          },
          "metadata": {
            "tags": []
          },
          "execution_count": 25
        }
      ]
    },
    {
      "cell_type": "code",
      "metadata": {
        "id": "hYxWTtqTeknA",
        "colab_type": "code",
        "outputId": "df487ea5-4cbd-4570-e89d-6c43cccc0a6a",
        "colab": {
          "base_uri": "https://localhost:8080/",
          "height": 34
        }
      },
      "source": [
        "round(math.sqrt(A))"
      ],
      "execution_count": 0,
      "outputs": [
        {
          "output_type": "execute_result",
          "data": {
            "text/plain": [
              "3"
            ]
          },
          "metadata": {
            "tags": []
          },
          "execution_count": 26
        }
      ]
    },
    {
      "cell_type": "markdown",
      "metadata": {
        "id": "yvhAHvGqfJF2",
        "colab_type": "text"
      },
      "source": [
        "---"
      ]
    },
    {
      "cell_type": "code",
      "metadata": {
        "id": "ODshtoGHfFvj",
        "colab_type": "code",
        "colab": {}
      },
      "source": [
        "greeting = \"hello\"\n",
        "name = \"Suresh\""
      ],
      "execution_count": 0,
      "outputs": []
    },
    {
      "cell_type": "code",
      "metadata": {
        "id": "GioN8eqBfMx9",
        "colab_type": "code",
        "colab": {}
      },
      "source": [
        "message = greeting + \" \" + name"
      ],
      "execution_count": 0,
      "outputs": []
    },
    {
      "cell_type": "code",
      "metadata": {
        "id": "ujHjqimkfPgm",
        "colab_type": "code",
        "outputId": "3afdae5e-cc8b-44aa-bfb8-f5f346de89c2",
        "colab": {
          "base_uri": "https://localhost:8080/",
          "height": 34
        }
      },
      "source": [
        "print(message)"
      ],
      "execution_count": 0,
      "outputs": [
        {
          "output_type": "stream",
          "text": [
            "hello Suresh\n"
          ],
          "name": "stdout"
        }
      ]
    },
    {
      "cell_type": "markdown",
      "metadata": {
        "id": "giBj_BhjfS4S",
        "colab_type": "text"
      },
      "source": [
        "---"
      ]
    },
    {
      "cell_type": "code",
      "metadata": {
        "id": "h-0Ys8H3fQZg",
        "colab_type": "code",
        "colab": {}
      },
      "source": [
        ""
      ],
      "execution_count": 0,
      "outputs": []
    },
    {
      "cell_type": "markdown",
      "metadata": {
        "id": "vgVxIe-CfgD_",
        "colab_type": "text"
      },
      "source": [
        "### Boolean Variables and Operators"
      ]
    },
    {
      "cell_type": "code",
      "metadata": {
        "id": "eEM8W5-Nfjox",
        "colab_type": "code",
        "colab": {}
      },
      "source": [
        "#Boolean / Logical\n",
        "#True\n",
        "#False"
      ],
      "execution_count": 0,
      "outputs": []
    },
    {
      "cell_type": "code",
      "metadata": {
        "id": "SvTYvHCAfrvb",
        "colab_type": "code",
        "outputId": "d5020f5a-0878-4c57-adcb-644eb0b00ec8",
        "colab": {
          "base_uri": "https://localhost:8080/",
          "height": 34
        }
      },
      "source": [
        "4<5"
      ],
      "execution_count": 0,
      "outputs": [
        {
          "output_type": "execute_result",
          "data": {
            "text/plain": [
              "True"
            ]
          },
          "metadata": {
            "tags": []
          },
          "execution_count": 31
        }
      ]
    },
    {
      "cell_type": "code",
      "metadata": {
        "id": "jw2g7P3Vfsl_",
        "colab_type": "code",
        "outputId": "b8d267b3-eccf-4376-b993-27dd31de8910",
        "colab": {
          "base_uri": "https://localhost:8080/",
          "height": 34
        }
      },
      "source": [
        "10>100"
      ],
      "execution_count": 0,
      "outputs": [
        {
          "output_type": "execute_result",
          "data": {
            "text/plain": [
              "False"
            ]
          },
          "metadata": {
            "tags": []
          },
          "execution_count": 32
        }
      ]
    },
    {
      "cell_type": "code",
      "metadata": {
        "id": "V_milR96fts9",
        "colab_type": "code",
        "outputId": "2c1cd43a-45ba-4571-ee9e-b2ff5fec425c",
        "colab": {
          "base_uri": "https://localhost:8080/",
          "height": 34
        }
      },
      "source": [
        "4 == 5"
      ],
      "execution_count": 0,
      "outputs": [
        {
          "output_type": "execute_result",
          "data": {
            "text/plain": [
              "False"
            ]
          },
          "metadata": {
            "tags": []
          },
          "execution_count": 33
        }
      ]
    },
    {
      "cell_type": "markdown",
      "metadata": {
        "id": "f_-Q9rcjfxph",
        "colab_type": "text"
      },
      "source": [
        "---"
      ]
    },
    {
      "cell_type": "code",
      "metadata": {
        "id": "C6FHZBPyfvdd",
        "colab_type": "code",
        "colab": {}
      },
      "source": [
        "# ==\n",
        "# != <>\n",
        "# <\n",
        "# >\n",
        "# <=\n",
        "# >=\n",
        "# and\n",
        "# or\n",
        "# not"
      ],
      "execution_count": 0,
      "outputs": []
    },
    {
      "cell_type": "markdown",
      "metadata": {
        "id": "5CRv4SMBf-NQ",
        "colab_type": "text"
      },
      "source": [
        "---"
      ]
    },
    {
      "cell_type": "code",
      "metadata": {
        "id": "sbBjkp8Lf773",
        "colab_type": "code",
        "colab": {}
      },
      "source": [
        "result = 4 < 5"
      ],
      "execution_count": 0,
      "outputs": []
    },
    {
      "cell_type": "code",
      "metadata": {
        "id": "bmGLplAzgAYG",
        "colab_type": "code",
        "outputId": "f2630530-b5a2-4788-e710-938b2e047608",
        "colab": {
          "base_uri": "https://localhost:8080/",
          "height": 34
        }
      },
      "source": [
        "result"
      ],
      "execution_count": 0,
      "outputs": [
        {
          "output_type": "execute_result",
          "data": {
            "text/plain": [
              "True"
            ]
          },
          "metadata": {
            "tags": []
          },
          "execution_count": 36
        }
      ]
    },
    {
      "cell_type": "code",
      "metadata": {
        "id": "Mp28zWuCgBLv",
        "colab_type": "code",
        "outputId": "9477a206-3f2c-4b1e-ffcb-3dac30acf442",
        "colab": {
          "base_uri": "https://localhost:8080/",
          "height": 34
        }
      },
      "source": [
        "type(result)"
      ],
      "execution_count": 0,
      "outputs": [
        {
          "output_type": "execute_result",
          "data": {
            "text/plain": [
              "bool"
            ]
          },
          "metadata": {
            "tags": []
          },
          "execution_count": 37
        }
      ]
    },
    {
      "cell_type": "markdown",
      "metadata": {
        "id": "TuqnROxbgE2k",
        "colab_type": "text"
      },
      "source": [
        "---"
      ]
    },
    {
      "cell_type": "code",
      "metadata": {
        "id": "JkX_2q2tgDZP",
        "colab_type": "code",
        "colab": {}
      },
      "source": [
        "result2 = not(5 > 1)"
      ],
      "execution_count": 0,
      "outputs": []
    },
    {
      "cell_type": "code",
      "metadata": {
        "id": "1jbBjmWwgJII",
        "colab_type": "code",
        "outputId": "80917b84-55c6-47f8-ea70-bd046a1e4b71",
        "colab": {
          "base_uri": "https://localhost:8080/",
          "height": 34
        }
      },
      "source": [
        "result2"
      ],
      "execution_count": 0,
      "outputs": [
        {
          "output_type": "execute_result",
          "data": {
            "text/plain": [
              "False"
            ]
          },
          "metadata": {
            "tags": []
          },
          "execution_count": 39
        }
      ]
    },
    {
      "cell_type": "code",
      "metadata": {
        "id": "vvT9auOBgJ9m",
        "colab_type": "code",
        "outputId": "ac123bc0-80f2-4398-bcae-b23b1089c53b",
        "colab": {
          "base_uri": "https://localhost:8080/",
          "height": 34
        }
      },
      "source": [
        "type(result2)"
      ],
      "execution_count": 0,
      "outputs": [
        {
          "output_type": "execute_result",
          "data": {
            "text/plain": [
              "bool"
            ]
          },
          "metadata": {
            "tags": []
          },
          "execution_count": 40
        }
      ]
    },
    {
      "cell_type": "markdown",
      "metadata": {
        "id": "EM-u6UYqgMjt",
        "colab_type": "text"
      },
      "source": [
        "---"
      ]
    },
    {
      "cell_type": "code",
      "metadata": {
        "id": "IHoM7qD5gK7Z",
        "colab_type": "code",
        "outputId": "cb045bd8-90a6-4378-ec60-0e54113761ed",
        "colab": {
          "base_uri": "https://localhost:8080/",
          "height": 34
        }
      },
      "source": [
        "result or result2"
      ],
      "execution_count": 0,
      "outputs": [
        {
          "output_type": "execute_result",
          "data": {
            "text/plain": [
              "True"
            ]
          },
          "metadata": {
            "tags": []
          },
          "execution_count": 41
        }
      ]
    },
    {
      "cell_type": "code",
      "metadata": {
        "id": "HPu1PhBggRM8",
        "colab_type": "code",
        "outputId": "2ce174a3-b580-4d71-cb9e-92eec44cc034",
        "colab": {
          "base_uri": "https://localhost:8080/",
          "height": 34
        }
      },
      "source": [
        "result and result2"
      ],
      "execution_count": 0,
      "outputs": [
        {
          "output_type": "execute_result",
          "data": {
            "text/plain": [
              "False"
            ]
          },
          "metadata": {
            "tags": []
          },
          "execution_count": 42
        }
      ]
    },
    {
      "cell_type": "code",
      "metadata": {
        "id": "Foo-DCRZgT3R",
        "colab_type": "code",
        "colab": {}
      },
      "source": [
        ""
      ],
      "execution_count": 0,
      "outputs": []
    },
    {
      "cell_type": "markdown",
      "metadata": {
        "id": "HHwOlIQQgjnP",
        "colab_type": "text"
      },
      "source": [
        "### The While Loop"
      ]
    },
    {
      "cell_type": "code",
      "metadata": {
        "id": "GLF7-Fa5glWB",
        "colab_type": "code",
        "outputId": "7e4dea75-05c4-4a12-e791-28a8a1a95611",
        "colab": {
          "base_uri": "https://localhost:8080/",
          "height": 204
        }
      },
      "source": [
        "counter = 0\n",
        "while counter < 10:\n",
        "  print(counter)\n",
        "  counter = counter + 1\n",
        "print('Done')"
      ],
      "execution_count": 0,
      "outputs": [
        {
          "output_type": "stream",
          "text": [
            "0\n",
            "1\n",
            "2\n",
            "3\n",
            "4\n",
            "5\n",
            "6\n",
            "7\n",
            "8\n",
            "9\n",
            "Done\n"
          ],
          "name": "stdout"
        }
      ]
    },
    {
      "cell_type": "markdown",
      "metadata": {
        "id": "d_QLCDzRhH6j",
        "colab_type": "text"
      },
      "source": [
        "### The For Loop"
      ]
    },
    {
      "cell_type": "code",
      "metadata": {
        "id": "BncStWo1g8QV",
        "colab_type": "code",
        "outputId": "41a607d7-714b-4596-cb84-0f810621f155",
        "colab": {
          "base_uri": "https://localhost:8080/",
          "height": 102
        }
      },
      "source": [
        "for i in range(5):\n",
        "  print(\"hello python\")"
      ],
      "execution_count": 0,
      "outputs": [
        {
          "output_type": "stream",
          "text": [
            "hello python\n",
            "hello python\n",
            "hello python\n",
            "hello python\n",
            "hello python\n"
          ],
          "name": "stdout"
        }
      ]
    },
    {
      "cell_type": "markdown",
      "metadata": {
        "id": "nJUJIY2dhZtL",
        "colab_type": "text"
      },
      "source": [
        "---"
      ]
    },
    {
      "cell_type": "code",
      "metadata": {
        "id": "Rmp4cl9DhQX3",
        "colab_type": "code",
        "outputId": "c1cf7d39-76b3-4928-8386-2137aa666856",
        "colab": {
          "base_uri": "https://localhost:8080/",
          "height": 34
        }
      },
      "source": [
        "range(5)"
      ],
      "execution_count": 0,
      "outputs": [
        {
          "output_type": "execute_result",
          "data": {
            "text/plain": [
              "range(0, 5)"
            ]
          },
          "metadata": {
            "tags": []
          },
          "execution_count": 46
        }
      ]
    },
    {
      "cell_type": "code",
      "metadata": {
        "id": "GZVbOsnchSAs",
        "colab_type": "code",
        "outputId": "09cf15be-6f92-4bf2-fbcd-98aaa8bd7bf7",
        "colab": {
          "base_uri": "https://localhost:8080/",
          "height": 34
        }
      },
      "source": [
        "list(range(5))"
      ],
      "execution_count": 0,
      "outputs": [
        {
          "output_type": "execute_result",
          "data": {
            "text/plain": [
              "[0, 1, 2, 3, 4]"
            ]
          },
          "metadata": {
            "tags": []
          },
          "execution_count": 47
        }
      ]
    },
    {
      "cell_type": "markdown",
      "metadata": {
        "id": "F6hxTNjchfnd",
        "colab_type": "text"
      },
      "source": [
        "---"
      ]
    },
    {
      "cell_type": "code",
      "metadata": {
        "id": "P4Syh6v5hTZn",
        "colab_type": "code",
        "outputId": "b4849acf-79a0-48d1-f1af-ae524baaf2c6",
        "colab": {
          "base_uri": "https://localhost:8080/",
          "height": 102
        }
      },
      "source": [
        "for i in range(5):\n",
        "  print('Hello python: ',i)"
      ],
      "execution_count": 0,
      "outputs": [
        {
          "output_type": "stream",
          "text": [
            "Hello python:  0\n",
            "Hello python:  1\n",
            "Hello python:  2\n",
            "Hello python:  3\n",
            "Hello python:  4\n"
          ],
          "name": "stdout"
        }
      ]
    },
    {
      "cell_type": "markdown",
      "metadata": {
        "id": "9Gk38P5nhm_7",
        "colab_type": "text"
      },
      "source": [
        "---"
      ]
    },
    {
      "cell_type": "code",
      "metadata": {
        "id": "ldjpc9YAhkUR",
        "colab_type": "code",
        "colab": {}
      },
      "source": [
        "# Another way\n",
        "mylist = [10,100,1000]"
      ],
      "execution_count": 0,
      "outputs": []
    },
    {
      "cell_type": "code",
      "metadata": {
        "id": "neyS3uRAhwFL",
        "colab_type": "code",
        "outputId": "facad110-79eb-4a24-fca6-ee21ece88308",
        "colab": {
          "base_uri": "https://localhost:8080/",
          "height": 34
        }
      },
      "source": [
        "mylist"
      ],
      "execution_count": 0,
      "outputs": [
        {
          "output_type": "execute_result",
          "data": {
            "text/plain": [
              "[10, 100, 1000]"
            ]
          },
          "metadata": {
            "tags": []
          },
          "execution_count": 50
        }
      ]
    },
    {
      "cell_type": "code",
      "metadata": {
        "id": "J-Xn2SS8hwwB",
        "colab_type": "code",
        "outputId": "11aec579-ad4f-4f82-be16-ff5351c06f51",
        "colab": {
          "base_uri": "https://localhost:8080/",
          "height": 68
        }
      },
      "source": [
        "for j in mylist:\n",
        "  print(\"j is equal to : \",j)"
      ],
      "execution_count": 0,
      "outputs": [
        {
          "output_type": "stream",
          "text": [
            "j is equal to :  10\n",
            "j is equal to :  100\n",
            "j is equal to :  1000\n"
          ],
          "name": "stdout"
        }
      ]
    },
    {
      "cell_type": "markdown",
      "metadata": {
        "id": "S2QXv2yyh-P-",
        "colab_type": "text"
      },
      "source": [
        "### The IF Statement"
      ]
    },
    {
      "cell_type": "code",
      "metadata": {
        "id": "5YO8jL-Ph4HG",
        "colab_type": "code",
        "colab": {}
      },
      "source": [
        "#---- -2 ---- -1 ---- 0 ---- 1 ---- 2 ----"
      ],
      "execution_count": 0,
      "outputs": []
    },
    {
      "cell_type": "code",
      "metadata": {
        "id": "rfEKsOUMiH8D",
        "colab_type": "code",
        "colab": {}
      },
      "source": [
        "import numpy as np\n",
        "from numpy.random import randn"
      ],
      "execution_count": 0,
      "outputs": []
    },
    {
      "cell_type": "code",
      "metadata": {
        "id": "Q8W8lp_MiM_9",
        "colab_type": "code",
        "outputId": "4e6854bb-afc9-4a2a-b4f1-69ee481921ec",
        "colab": {
          "base_uri": "https://localhost:8080/",
          "height": 34
        }
      },
      "source": [
        "randn()"
      ],
      "execution_count": 0,
      "outputs": [
        {
          "output_type": "execute_result",
          "data": {
            "text/plain": [
              "-1.194206299355996"
            ]
          },
          "metadata": {
            "tags": []
          },
          "execution_count": 60
        }
      ]
    },
    {
      "cell_type": "markdown",
      "metadata": {
        "id": "IQp9Ll5biai8",
        "colab_type": "text"
      },
      "source": [
        "---"
      ]
    },
    {
      "cell_type": "code",
      "metadata": {
        "id": "vLbNJRuYiSbb",
        "colab_type": "code",
        "outputId": "f878a7ac-4f0e-4f58-d340-93cc349b301a",
        "colab": {
          "base_uri": "https://localhost:8080/",
          "height": 51
        }
      },
      "source": [
        "#---- -2 ---- -1 ---- 0 ---- 1 ---- 2 ----\n",
        "answer = None\n",
        "x = randn()\n",
        "if x > 1:\n",
        "  answer = \"Greater than 1\"\n",
        "else:\n",
        "  answer = \"Less than 1\"\n",
        "print(x)\n",
        "print(answer)"
      ],
      "execution_count": 0,
      "outputs": [
        {
          "output_type": "stream",
          "text": [
            "-0.35070205564347867\n",
            "Less than 1\n"
          ],
          "name": "stdout"
        }
      ]
    },
    {
      "cell_type": "markdown",
      "metadata": {
        "id": "MNAOJTIejJ8R",
        "colab_type": "text"
      },
      "source": [
        "---"
      ]
    },
    {
      "cell_type": "code",
      "metadata": {
        "id": "IQX6g_EYimeP",
        "colab_type": "code",
        "outputId": "bfb73c28-12d6-445e-f890-83a7e9e82d41",
        "colab": {
          "base_uri": "https://localhost:8080/",
          "height": 51
        }
      },
      "source": [
        "#---- -2 ---- -1 ---- 0 ---- 1 ---- 2 ----\n",
        "# Nested Statement\n",
        "answer = None\n",
        "x = randn()\n",
        "if x > 1:\n",
        "  answer = \"Greater than 1\"\n",
        "else:\n",
        "  if x >= -1:\n",
        "    answer = \"Between -1 and 1\"\n",
        "  else:\n",
        "    answer = \"Less than -1\"\n",
        "print(x)\n",
        "print(answer)"
      ],
      "execution_count": 0,
      "outputs": [
        {
          "output_type": "stream",
          "text": [
            "1.2606987318362943\n",
            "Greater than 1\n"
          ],
          "name": "stdout"
        }
      ]
    },
    {
      "cell_type": "markdown",
      "metadata": {
        "id": "gnat7AGEjm65",
        "colab_type": "text"
      },
      "source": [
        "---"
      ]
    },
    {
      "cell_type": "code",
      "metadata": {
        "id": "AGpWCFPVjpJS",
        "colab_type": "code",
        "outputId": "22be8f17-c5fa-4c79-9533-09286d370ca6",
        "colab": {
          "base_uri": "https://localhost:8080/",
          "height": 51
        }
      },
      "source": [
        "#---- -2 ---- -1 ---- 0 ---- 1 ---- 2 ----\n",
        "# Chained Statement\n",
        "answer = None\n",
        "x = randn()\n",
        "if x > 1:\n",
        "  answer = \"Greater than 1\"\n",
        "elif x >= -1:\n",
        "  answer = \"Between -1 and 1\"\n",
        "else:\n",
        "  answer = \"Less than -1\"\n",
        "print(x)\n",
        "print(answer)"
      ],
      "execution_count": 0,
      "outputs": [
        {
          "output_type": "stream",
          "text": [
            "-0.8198336996988579\n",
            "Between -1 and 1\n"
          ],
          "name": "stdout"
        }
      ]
    },
    {
      "cell_type": "markdown",
      "metadata": {
        "id": "ygbXr4Bk4Xfy",
        "colab_type": "text"
      },
      "source": [
        "## Excercise - Law of Large Numbers"
      ]
    },
    {
      "cell_type": "markdown",
      "metadata": {
        "id": "Ve-0yCGd4iH7",
        "colab_type": "text"
      },
      "source": [
        "## Exercise Question\n",
        "\n",
        "Test the Law of Large Numbers for N random normally distributed numbers with mean = 0, stdev = 1:\n",
        "\n",
        "Create a Python script that will count how many of these numbers fall between -1 and 1 and dividde by the total quantity of N\n",
        "\n",
        "You know the E(X) = 68.2%\n",
        "\n",
        "Check the Mean (Xn) -> E(X) as you rerun your script while increasing N"
      ]
    },
    {
      "cell_type": "markdown",
      "metadata": {
        "id": "Exqre8L94knT",
        "colab_type": "text"
      },
      "source": [
        "## Excercise Solution"
      ]
    },
    {
      "cell_type": "code",
      "metadata": {
        "id": "B6ror8rW4fYa",
        "colab_type": "code",
        "colab": {
          "base_uri": "https://localhost:8080/",
          "height": 34
        },
        "outputId": "6f98f64f-57eb-415b-c395-8e079f2727f1"
      },
      "source": [
        "import numpy as np\n",
        "from numpy.random import randn\n",
        "\n",
        "N = 100000 # Try to values: 100, 1000, 10000, 100000, 1000000\n",
        "counter = 0\n",
        "for i in randn(N):\n",
        "  if i>-1 and i<1:\n",
        "    counter = counter + 1\n",
        "counter/N"
      ],
      "execution_count": 1,
      "outputs": [
        {
          "output_type": "execute_result",
          "data": {
            "text/plain": [
              "0.68401"
            ]
          },
          "metadata": {
            "tags": []
          },
          "execution_count": 1
        }
      ]
    },
    {
      "cell_type": "code",
      "metadata": {
        "id": "0RYzWIHg4sTu",
        "colab_type": "code",
        "colab": {}
      },
      "source": [
        ""
      ],
      "execution_count": 0,
      "outputs": []
    }
  ]
}