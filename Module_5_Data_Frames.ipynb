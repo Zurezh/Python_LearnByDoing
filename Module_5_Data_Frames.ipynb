{
  "nbformat": 4,
  "nbformat_minor": 0,
  "metadata": {
    "colab": {
      "name": "Module 5 Data Frames.ipynb",
      "provenance": [],
      "include_colab_link": true
    },
    "kernelspec": {
      "name": "python3",
      "display_name": "Python 3"
    }
  },
  "cells": [
    {
      "cell_type": "markdown",
      "metadata": {
        "id": "view-in-github",
        "colab_type": "text"
      },
      "source": [
        "<a href=\"https://colab.research.google.com/github/Zurezh/Python_LearnByDoing/blob/master/Module_5_Data_Frames.ipynb\" target=\"_parent\"><img src=\"https://colab.research.google.com/assets/colab-badge.svg\" alt=\"Open In Colab\"/></a>"
      ]
    },
    {
      "cell_type": "markdown",
      "metadata": {
        "id": "WBTlm-HkhhHv",
        "colab_type": "text"
      },
      "source": [
        "# Module 5 - Data Frames\n",
        "\n",
        "1. Importing data into Python\n",
        "2. Exploring dataset\n",
        "3. Renaming columns of data frame\n",
        "4. Subsetting dataframes\n",
        "5. Basic Oprations with DF\n",
        "6. Filtering in DF\n",
        "7. Using .at() and .iat()\n",
        "8. Intro to Seaborn\n",
        "9. Visualizing with Seaborn\n",
        "10. Keywork Arguments in Python\n",
        "11. Exercise"
      ]
    },
    {
      "cell_type": "code",
      "metadata": {
        "id": "MZJ8Ay3mhZDr",
        "colab_type": "code",
        "colab": {}
      },
      "source": [
        ""
      ],
      "execution_count": 0,
      "outputs": []
    },
    {
      "cell_type": "code",
      "metadata": {
        "id": "ELOLJ6hehyDo",
        "colab_type": "code",
        "colab": {}
      },
      "source": [
        ""
      ],
      "execution_count": 0,
      "outputs": []
    }
  ]
}