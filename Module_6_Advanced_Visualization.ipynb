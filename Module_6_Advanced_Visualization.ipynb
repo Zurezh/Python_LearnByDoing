{
  "nbformat": 4,
  "nbformat_minor": 0,
  "metadata": {
    "colab": {
      "name": "Module 6 Advanced Visualization.ipynb",
      "provenance": [],
      "include_colab_link": true
    },
    "kernelspec": {
      "name": "python3",
      "display_name": "Python 3"
    }
  },
  "cells": [
    {
      "cell_type": "markdown",
      "metadata": {
        "id": "view-in-github",
        "colab_type": "text"
      },
      "source": [
        "<a href=\"https://colab.research.google.com/github/Zurezh/Python_LearnByDoing/blob/master/Module_6_Advanced_Visualization.ipynb\" target=\"_parent\"><img src=\"https://colab.research.google.com/assets/colab-badge.svg\" alt=\"Open In Colab\"/></a>"
      ]
    },
    {
      "cell_type": "markdown",
      "metadata": {
        "id": "X7xOs9LdPCi2",
        "colab_type": "text"
      },
      "source": [
        "# Module 6 - Advanced Visualization\n",
        "\n",
        "1. Category Data Type\n",
        "2. JointPlots\n",
        "3. Histograms\n",
        "4. Staked Histograms\n",
        "5. KDE Plot\n",
        "6. Subplots()\n",
        "7. Violinplots vs Boxplots\n",
        "8. Faced Grid\n",
        "9. Coordinates and Diagonals\n",
        "10. Building Dashboard in Python\n",
        "11. Styling Tips\n",
        "12. Finishing Touches\n",
        "13. Exercise"
      ]
    },
    {
      "cell_type": "code",
      "metadata": {
        "id": "A7Q_W8epPZjH",
        "colab_type": "code",
        "colab": {}
      },
      "source": [
        ""
      ],
      "execution_count": 0,
      "outputs": []
    },
    {
      "cell_type": "code",
      "metadata": {
        "id": "RyDQ6K11O9Pj",
        "colab_type": "code",
        "colab": {}
      },
      "source": [
        ""
      ],
      "execution_count": 0,
      "outputs": []
    }
  ]
}